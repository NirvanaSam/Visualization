{
 "cells": [
  {
   "cell_type": "code",
   "execution_count": 14,
   "metadata": {},
   "outputs": [],
   "source": [
    "from pyecharts import options as opts\n",
    "from pyecharts.charts import Pie\n",
    "import csv\n",
    "filename=\"../data/vote_result.csv\"\n",
    "data_x=[]\n",
    "with open(filename,'r', encoding='gbk') as f:\n",
    "    reader = csv.reader(f)\n",
    "    for data_row in reader:\n",
    "        data_x.append(data_row)\n",
    "b=[]\n",
    "c=[]\n",
    "for index,values in enumerate(data_x):\n",
    "    if(index>0):\n",
    "        b.append(values[0])\n",
    "        c.append(values[1])\n",
    "x=data_x[0]\n",
    "d = (\n",
    "    Pie()\n",
    "    .add(\n",
    "        \"\",\n",
    "        [list(z) for z in zip(b, c)],\n",
    "        center=[\"35%\", \"50%\"],\n",
    "    )\n",
    "    .set_global_opts(\n",
    "        title_opts=opts.TitleOpts(title=\"投票结果饼图\"),\n",
    "        legend_opts=opts.LegendOpts(pos_left=\"15%\"),\n",
    "    )\n",
    "    .set_series_opts(label_opts=opts.LabelOpts(formatter=\"{b}: {c}\"))\n",
    "    .render(\"../pics/pie_position.html\")\n",
    ")"
   ]
  },
  {
   "cell_type": "code",
   "execution_count": 16,
   "metadata": {},
   "outputs": [
    {
     "name": "stdout",
     "output_type": "stream",
     "text": [
      "['种族问题', '教育', '恐怖活动', '能源政策', '外交事务', '环境', '宗教政策', '税收', '医疗保健政策', '经济', '就业政策', '贸易政策', '外来移民']\n"
     ]
    }
   ],
   "source": [
    "from pyecharts import options as opts\n",
    "from pyecharts.charts import Bar\n",
    "import csv\n",
    " \n",
    "filename=\"../data/approval_rate.csv\"\n",
    "data_x=[]\n",
    "#打开文件循环读取数据\n",
    "with open(filename,'r', encoding='gbk') as f:\n",
    "    reader = csv.reader(f)\n",
    "    for data_row in reader:\n",
    "        data_x.append(data_row)\n",
    "x=[]            #读取数据列表集中第一行数据进行赋值\n",
    "b=[]\n",
    "c=[]\n",
    "d=[]\n",
    "e=[]\n",
    "for index,values in enumerate(data_x):\n",
    "    if(index>0):\n",
    "        b.append(values[0])\n",
    "        c.append(values[1])\n",
    "        d.append(values[2])\n",
    "        e.append(values[3])\n",
    "    elif(index==0):\n",
    "        x.append(values)\n",
    "print(b)\n",
    "c = (\n",
    " Bar()\n",
    " .add_xaxis(b)\n",
    " .add_yaxis(x[0][1], c, stack=\"stack1\")\n",
    " .add_yaxis(x[0][2], d, stack=\"stack1\")\n",
    " .add_yaxis(x[0][3], e, stack=\"stack1\")#显示在同一条柱状图中，不带stack属性则会分为三条柱状图\n",
    " .set_series_opts(label_opts=opts.LabelOpts(is_show=False))\n",
    " .set_global_opts(title_opts=opts.TitleOpts(title=\"Bar-堆叠柱形图\"))\n",
    " .render(\"../pics/政治举措民意调查结果.html\")\n",
    ")"
   ]
  },
  {
   "cell_type": "code",
   "execution_count": 21,
   "metadata": {},
   "outputs": [],
   "source": [
    "import pygal\n",
    "treemap = pygal.Treemap()\n",
    "treemap.title = 'BinaryTreeMap'\n",
    "treemap.add('A', [2, 1, 12, 4, 2, 1, 1, 3, 12, 3, 4, None, 9])\n",
    "treemap.add('B', [4, 2, 5, 10, 3, 4, 2, 7, 4, -10, None, 8, 3, 1])\n",
    "treemap.add('C', [3, 8, 3, 3, 5, 3, 3, 5, 4, 12])\n",
    "treemap.add('D', [23, 18])\n",
    "treemap.add('E', [1, 2, 1, 2, 3, 3, 1, 2, 3,4, 3, 1, 2, 1, 1, 1, 1, 1])\n",
    "treemap.add('F', [31])\n",
    "treemap.add('G', [5, 9.3, 8.1, 12, 4, 3, 2])\n",
    "treemap.add('H', [12, 3, 3])\n",
    "treemap.render_to_file('../pics/level.svg')"
   ]
  },
  {
   "cell_type": "code",
   "execution_count": 30,
   "metadata": {},
   "outputs": [],
   "source": [
    "import pandas as pd\n",
    "data = pd.read_csv(\"../data/uspop.csv\")\n",
    "line_chart = pygal.StackedLine(fill=True)\n",
    "line_chart.title = '人口老龄化'\n",
    "line_chart.x_labels = map(str, x)\n",
    "line_chart.add('5岁以下', data['Under 5'])\n",
    "line_chart.add('5~19岁', data['5 to 19'])\n",
    "line_chart.add('20~44岁', data['20 to 44'])\n",
    "line_chart.add('45~64岁', data['45 to 64'])\n",
    "line_chart.add('65岁及以上', data['65+'])\n",
    "line_chart.render_to_file('../pics/chart.svg')"
   ]
  }
 ],
 "metadata": {
  "kernelspec": {
   "display_name": "Python [conda env:deepl]",
   "language": "python",
   "name": "conda-env-deepl-py"
  },
  "language_info": {
   "codemirror_mode": {
    "name": "ipython",
    "version": 3
   },
   "file_extension": ".py",
   "mimetype": "text/x-python",
   "name": "python",
   "nbconvert_exporter": "python",
   "pygments_lexer": "ipython3",
   "version": "3.9.2"
  }
 },
 "nbformat": 4,
 "nbformat_minor": 4
}

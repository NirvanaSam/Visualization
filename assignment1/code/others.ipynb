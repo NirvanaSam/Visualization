{
  "cells": [
    {
      "cell_type": "code",
      "source": [
        "from google.colab import drive\n",
        "from snapshot_selenium import snapshot\n",
        "drive.mount('/content/drive')"
      ],
      "metadata": {
        "colab": {
          "base_uri": "https://localhost:8080/"
        },
        "id": "gmSLFd-xRNgV",
        "outputId": "dd3f50b7-44dc-414b-b6ed-b7745c7342f2"
      },
      "execution_count": 5,
      "outputs": [
        {
          "output_type": "stream",
          "name": "stdout",
          "text": [
            "Mounted at /content/drive\n"
          ]
        }
      ]
    },
    {
      "cell_type": "code",
      "source": [
        "!pip install pyecharts==0.5\n",
        "!pip install pyecharts_snapshot\n",
        "!pip install snapshot_selenium\n",
        "!pip install pyecharts_snapshot"
      ],
      "metadata": {
        "colab": {
          "base_uri": "https://localhost:8080/"
        },
        "id": "hvhqMmYUPVpX",
        "outputId": "3aee98b4-7fed-4903-dee3-bcb40bf6feb0"
      },
      "execution_count": 2,
      "outputs": [
        {
          "output_type": "stream",
          "name": "stdout",
          "text": [
            "Looking in indexes: https://pypi.org/simple, https://us-python.pkg.dev/colab-wheels/public/simple/\n",
            "Collecting pyecharts==0.5\n",
            "  Downloading pyecharts-0.5.0.tar.gz (117 kB)\n",
            "\u001b[K     |████████████████████████████████| 117 kB 8.9 MB/s \n",
            "\u001b[?25hRequirement already satisfied: pillow in /usr/local/lib/python3.7/dist-packages (from pyecharts==0.5) (7.1.2)\n",
            "Requirement already satisfied: jinja2 in /usr/local/lib/python3.7/dist-packages (from pyecharts==0.5) (2.11.3)\n",
            "Requirement already satisfied: future in /usr/local/lib/python3.7/dist-packages (from pyecharts==0.5) (0.16.0)\n",
            "Collecting jupyter-echarts-pypkg==0.1.1\n",
            "  Downloading jupyter-echarts-pypkg-0.1.1.tar.gz (514 kB)\n",
            "\u001b[K     |████████████████████████████████| 514 kB 38.2 MB/s \n",
            "\u001b[?25hCollecting lml==0.0.2\n",
            "  Downloading lml-0.0.2-py2.py3-none-any.whl (10 kB)\n",
            "Collecting pyecharts-javascripthon\n",
            "  Downloading pyecharts_javascripthon-0.0.6-py2.py3-none-any.whl (9.3 kB)\n",
            "Collecting pyecharts-jupyter-installer==0.0.3\n",
            "  Using cached pyecharts_jupyter_installer-0.0.3-py2.py3-none-any.whl (4.7 kB)\n",
            "Requirement already satisfied: MarkupSafe>=0.23 in /usr/local/lib/python3.7/dist-packages (from jinja2->pyecharts==0.5) (2.0.1)\n",
            "Collecting javascripthon>=0.10\n",
            "  Downloading javascripthon-0.12-py3-none-any.whl (526 kB)\n",
            "\u001b[K     |████████████████████████████████| 526 kB 49.7 MB/s \n",
            "\u001b[?25hRequirement already satisfied: setuptools in /usr/local/lib/python3.7/dist-packages (from javascripthon>=0.10->pyecharts-javascripthon->pyecharts==0.5) (57.4.0)\n",
            "Collecting dukpy\n",
            "  Downloading dukpy-0.2.3-cp37-cp37m-manylinux1_x86_64.whl (1.9 MB)\n",
            "\u001b[K     |████████████████████████████████| 1.9 MB 46.7 MB/s \n",
            "\u001b[?25hBuilding wheels for collected packages: pyecharts, jupyter-echarts-pypkg\n",
            "  Building wheel for pyecharts (setup.py) ... \u001b[?25l\u001b[?25hdone\n",
            "  Created wheel for pyecharts: filename=pyecharts-0.5.0-py2.py3-none-any.whl size=111554 sha256=92ab7bed300a7ef4fd1d0170a140aab7f85bbd085029ef792003d27b8c8e1871\n",
            "  Stored in directory: /root/.cache/pip/wheels/1f/62/f3/5ed8675b30052bfdcd2a905a972fc74fdc256651ddd2742575\n",
            "  Building wheel for jupyter-echarts-pypkg (setup.py) ... \u001b[?25l\u001b[?25hdone\n",
            "  Created wheel for jupyter-echarts-pypkg: filename=jupyter_echarts_pypkg-0.1.1-py3-none-any.whl size=515952 sha256=a1ad5c53df880ea7fefc49b5f9ff3622c90357c90ec84824a219e2a7af255837\n",
            "  Stored in directory: /root/.cache/pip/wheels/62/7d/1e/e896e588bfdb6a4323fa1e91f1d869eeb57d16620977566cf0\n",
            "Successfully built pyecharts jupyter-echarts-pypkg\n",
            "Installing collected packages: dukpy, pyecharts-jupyter-installer, lml, javascripthon, pyecharts-javascripthon, jupyter-echarts-pypkg, pyecharts\n",
            "Successfully installed dukpy-0.2.3 javascripthon-0.12 jupyter-echarts-pypkg-0.1.1 lml-0.0.2 pyecharts-0.5.0 pyecharts-javascripthon-0.0.6 pyecharts-jupyter-installer-0.0.3\n",
            "Looking in indexes: https://pypi.org/simple, https://us-python.pkg.dev/colab-wheels/public/simple/\n",
            "Collecting pyecharts_snapshot\n",
            "  Downloading pyecharts_snapshot-0.2.0-py2.py3-none-any.whl (7.4 kB)\n",
            "Collecting pyppeteer>=0.0.25\n",
            "  Downloading pyppeteer-1.0.2-py3-none-any.whl (83 kB)\n",
            "\u001b[K     |████████████████████████████████| 83 kB 1.6 MB/s \n",
            "\u001b[?25hRequirement already satisfied: pillow in /usr/local/lib/python3.7/dist-packages (from pyecharts_snapshot) (7.1.2)\n",
            "Collecting urllib3<2.0.0,>=1.25.8\n",
            "  Downloading urllib3-1.26.12-py2.py3-none-any.whl (140 kB)\n",
            "\u001b[K     |████████████████████████████████| 140 kB 41.1 MB/s \n",
            "\u001b[?25hRequirement already satisfied: importlib-metadata>=1.4 in /usr/local/lib/python3.7/dist-packages (from pyppeteer>=0.0.25->pyecharts_snapshot) (4.12.0)\n",
            "Requirement already satisfied: appdirs<2.0.0,>=1.4.3 in /usr/local/lib/python3.7/dist-packages (from pyppeteer>=0.0.25->pyecharts_snapshot) (1.4.4)\n",
            "Collecting websockets<11.0,>=10.0\n",
            "  Downloading websockets-10.3-cp37-cp37m-manylinux_2_5_x86_64.manylinux1_x86_64.manylinux_2_12_x86_64.manylinux2010_x86_64.whl (112 kB)\n",
            "\u001b[K     |████████████████████████████████| 112 kB 54.3 MB/s \n",
            "\u001b[?25hCollecting pyee<9.0.0,>=8.1.0\n",
            "  Downloading pyee-8.2.2-py2.py3-none-any.whl (12 kB)\n",
            "Requirement already satisfied: certifi>=2021 in /usr/local/lib/python3.7/dist-packages (from pyppeteer>=0.0.25->pyecharts_snapshot) (2022.6.15)\n",
            "Requirement already satisfied: tqdm<5.0.0,>=4.42.1 in /usr/local/lib/python3.7/dist-packages (from pyppeteer>=0.0.25->pyecharts_snapshot) (4.64.1)\n",
            "Requirement already satisfied: typing-extensions>=3.6.4 in /usr/local/lib/python3.7/dist-packages (from importlib-metadata>=1.4->pyppeteer>=0.0.25->pyecharts_snapshot) (4.1.1)\n",
            "Requirement already satisfied: zipp>=0.5 in /usr/local/lib/python3.7/dist-packages (from importlib-metadata>=1.4->pyppeteer>=0.0.25->pyecharts_snapshot) (3.8.1)\n",
            "Installing collected packages: websockets, urllib3, pyee, pyppeteer, pyecharts-snapshot\n",
            "  Attempting uninstall: urllib3\n",
            "    Found existing installation: urllib3 1.24.3\n",
            "    Uninstalling urllib3-1.24.3:\n",
            "      Successfully uninstalled urllib3-1.24.3\n",
            "\u001b[31mERROR: pip's dependency resolver does not currently take into account all the packages that are installed. This behaviour is the source of the following dependency conflicts.\n",
            "requests 2.23.0 requires urllib3!=1.25.0,!=1.25.1,<1.26,>=1.21.1, but you have urllib3 1.26.12 which is incompatible.\u001b[0m\n",
            "Successfully installed pyecharts-snapshot-0.2.0 pyee-8.2.2 pyppeteer-1.0.2 urllib3-1.26.12 websockets-10.3\n",
            "Looking in indexes: https://pypi.org/simple, https://us-python.pkg.dev/colab-wheels/public/simple/\n",
            "Collecting snapshot_selenium\n",
            "  Downloading snapshot_selenium-0.0.2-py2.py3-none-any.whl (3.0 kB)\n",
            "Collecting selenium\n",
            "  Downloading selenium-4.5.0-py3-none-any.whl (995 kB)\n",
            "\u001b[K     |████████████████████████████████| 995 kB 11.1 MB/s \n",
            "\u001b[?25hCollecting trio~=0.17\n",
            "  Downloading trio-0.22.0-py3-none-any.whl (384 kB)\n",
            "\u001b[K     |████████████████████████████████| 384 kB 58.3 MB/s \n",
            "\u001b[?25hCollecting trio-websocket~=0.9\n",
            "  Downloading trio_websocket-0.9.2-py3-none-any.whl (16 kB)\n",
            "Requirement already satisfied: urllib3[socks]~=1.26 in /usr/local/lib/python3.7/dist-packages (from selenium->snapshot_selenium) (1.26.12)\n",
            "Requirement already satisfied: certifi>=2021.10.8 in /usr/local/lib/python3.7/dist-packages (from selenium->snapshot_selenium) (2022.6.15)\n",
            "Requirement already satisfied: sortedcontainers in /usr/local/lib/python3.7/dist-packages (from trio~=0.17->selenium->snapshot_selenium) (2.4.0)\n",
            "Requirement already satisfied: attrs>=19.2.0 in /usr/local/lib/python3.7/dist-packages (from trio~=0.17->selenium->snapshot_selenium) (22.1.0)\n",
            "Collecting exceptiongroup>=1.0.0rc9\n",
            "  Downloading exceptiongroup-1.0.0rc9-py3-none-any.whl (12 kB)\n",
            "Collecting outcome\n",
            "  Downloading outcome-1.2.0-py2.py3-none-any.whl (9.7 kB)\n",
            "Collecting sniffio\n",
            "  Downloading sniffio-1.3.0-py3-none-any.whl (10 kB)\n",
            "Requirement already satisfied: idna in /usr/local/lib/python3.7/dist-packages (from trio~=0.17->selenium->snapshot_selenium) (2.10)\n",
            "Collecting async-generator>=1.9\n",
            "  Downloading async_generator-1.10-py3-none-any.whl (18 kB)\n",
            "Collecting wsproto>=0.14\n",
            "  Downloading wsproto-1.2.0-py3-none-any.whl (24 kB)\n",
            "Requirement already satisfied: PySocks!=1.5.7,<2.0,>=1.5.6 in /usr/local/lib/python3.7/dist-packages (from urllib3[socks]~=1.26->selenium->snapshot_selenium) (1.7.1)\n",
            "Collecting h11<1,>=0.9.0\n",
            "  Downloading h11-0.14.0-py3-none-any.whl (58 kB)\n",
            "\u001b[K     |████████████████████████████████| 58 kB 6.0 MB/s \n",
            "\u001b[?25hRequirement already satisfied: typing-extensions in /usr/local/lib/python3.7/dist-packages (from h11<1,>=0.9.0->wsproto>=0.14->trio-websocket~=0.9->selenium->snapshot_selenium) (4.1.1)\n",
            "Installing collected packages: sniffio, outcome, h11, exceptiongroup, async-generator, wsproto, trio, trio-websocket, selenium, snapshot-selenium\n",
            "Successfully installed async-generator-1.10 exceptiongroup-1.0.0rc9 h11-0.14.0 outcome-1.2.0 selenium-4.5.0 snapshot-selenium-0.0.2 sniffio-1.3.0 trio-0.22.0 trio-websocket-0.9.2 wsproto-1.2.0\n",
            "Looking in indexes: https://pypi.org/simple, https://us-python.pkg.dev/colab-wheels/public/simple/\n",
            "Requirement already satisfied: pyecharts_snapshot in /usr/local/lib/python3.7/dist-packages (0.2.0)\n",
            "Requirement already satisfied: pillow in /usr/local/lib/python3.7/dist-packages (from pyecharts_snapshot) (7.1.2)\n",
            "Requirement already satisfied: pyppeteer>=0.0.25 in /usr/local/lib/python3.7/dist-packages (from pyecharts_snapshot) (1.0.2)\n",
            "Requirement already satisfied: appdirs<2.0.0,>=1.4.3 in /usr/local/lib/python3.7/dist-packages (from pyppeteer>=0.0.25->pyecharts_snapshot) (1.4.4)\n",
            "Requirement already satisfied: urllib3<2.0.0,>=1.25.8 in /usr/local/lib/python3.7/dist-packages (from pyppeteer>=0.0.25->pyecharts_snapshot) (1.26.12)\n",
            "Requirement already satisfied: pyee<9.0.0,>=8.1.0 in /usr/local/lib/python3.7/dist-packages (from pyppeteer>=0.0.25->pyecharts_snapshot) (8.2.2)\n",
            "Requirement already satisfied: importlib-metadata>=1.4 in /usr/local/lib/python3.7/dist-packages (from pyppeteer>=0.0.25->pyecharts_snapshot) (4.12.0)\n",
            "Requirement already satisfied: certifi>=2021 in /usr/local/lib/python3.7/dist-packages (from pyppeteer>=0.0.25->pyecharts_snapshot) (2022.6.15)\n",
            "Requirement already satisfied: websockets<11.0,>=10.0 in /usr/local/lib/python3.7/dist-packages (from pyppeteer>=0.0.25->pyecharts_snapshot) (10.3)\n",
            "Requirement already satisfied: tqdm<5.0.0,>=4.42.1 in /usr/local/lib/python3.7/dist-packages (from pyppeteer>=0.0.25->pyecharts_snapshot) (4.64.1)\n",
            "Requirement already satisfied: typing-extensions>=3.6.4 in /usr/local/lib/python3.7/dist-packages (from importlib-metadata>=1.4->pyppeteer>=0.0.25->pyecharts_snapshot) (4.1.1)\n",
            "Requirement already satisfied: zipp>=0.5 in /usr/local/lib/python3.7/dist-packages (from importlib-metadata>=1.4->pyppeteer>=0.0.25->pyecharts_snapshot) (3.8.1)\n"
          ]
        }
      ]
    },
    {
      "cell_type": "code",
      "source": [
        "%matplotlib inline\n",
        "from pyecharts import Line\n",
        "line = Line(\"美国邮票阶梯图\")\n",
        "datax = [1995,1996,1997,1998,1999,2000,2001,2002,2003,2004,2005,2006,2007,2008,2009]\n",
        "datay = [0.32,0.32,0.32,0.32,0.33,0.33,0.34,0.37,0.37,0.37,0.37,0.39,0.41,0.42,0.44]\n",
        "line.add(\"Price\",datax, datay, is_step = True,is_label_show = True,yaxis_min = 0.3,yaxis_max = 0.45) "
      ],
      "metadata": {
        "id": "WSxa-yPcPaqI"
      },
      "execution_count": 3,
      "outputs": []
    },
    {
      "cell_type": "code",
      "source": [
        "from pyecharts_snapshot.main import make_a_snapshot\n",
        "line.render('test.html')"
      ],
      "metadata": {
        "colab": {
          "base_uri": "https://localhost:8080/"
        },
        "id": "gxmfhdBrQi3H",
        "outputId": "8718a27e-1728-4522-e1a9-d9782ee6795e"
      },
      "execution_count": 4,
      "outputs": [
        {
          "output_type": "stream",
          "name": "stderr",
          "text": [
            "/usr/local/lib/python3.7/dist-packages/trio/_core/_multierror.py:411: RuntimeWarning: IPython detected, but you already have a custom exception handler installed. I'll skip installing Trio's custom handler, but this means exception groups will not show full tracebacks.\n",
            "  category=RuntimeWarning,\n"
          ]
        },
        {
          "output_type": "execute_result",
          "data": {
            "text/plain": [
              "<coroutine object make_a_snapshot at 0x7f19e8420680>"
            ]
          },
          "metadata": {},
          "execution_count": 4
        }
      ]
    },
    {
      "cell_type": "code",
      "source": [
        "from pyecharts import Line\n",
        "line = Line(\"美国邮票折线图\")\n",
        "datax = [1995,1996,1997,1998,1999,2000,2001,2002,2003,2004,2005,2006,2007,2008,2009]\n",
        "datay = [0.32,0.32,0.32,0.32,0.33,0.33,0.34,0.37,0.37,0.37,0.37,0.39,0.41,0.42,0.44]\n",
        "line.add(\"Price\",datax, datay, is_step = False,is_label_show = True,yaxis_min = 0.3,yaxis_max = 0.45) \n",
        "line.render('./drive/MyDrive/pictures/test.html')"
      ],
      "metadata": {
        "id": "OBtqneNoQ8aC"
      },
      "execution_count": 11,
      "outputs": []
    },
    {
      "cell_type": "code",
      "source": [
        "from pyecharts.echarts.option import color\n",
        "from pyecharts import Bar\n",
        "from pyecharts import Page\n",
        "import csv\n",
        "page = Page()  \n",
        "bar = Bar(\"柱状图示例\")\n",
        "filename = \"./drive/MyDrive/pictures/hot-dog-contest-winners.csv\"\n",
        "datax = []\n",
        "datay = []\n",
        "with open(filename) as f:\n",
        "    reader = csv.reader(f)\n",
        "    for datarow in reader:\n",
        "        if reader.line_num != 1:\n",
        "            datay.append(datarow[2])\n",
        "            datax.append(datarow[0])\n",
        "bar.add(\"过去30年的热狗大胃王比赛\", datax, datay, color='blue')\n",
        "page.add(bar)\n",
        "page.render('./drive/MyDrive/pictures/test1.html')"
      ],
      "metadata": {
        "id": "pxfUiTC0ExNX"
      },
      "execution_count": 22,
      "outputs": []
    },
    {
      "cell_type": "code",
      "source": [
        "from pyecharts import Bar, Scatter3D\n",
        "from pyecharts import Page\n",
        "import csv\n",
        "page = Page()  \n",
        "bar = Bar(\"柱状图数据堆叠示例\")\n",
        "filename = \"./drive/MyDrive/pictures/hot-dog-places.csv\"\n",
        "data = []\n",
        "with open(filename) as f:\n",
        "    reader = csv.reader(f)\n",
        "    for datarow in reader:\n",
        "        data.append(datarow)\n",
        "datax = data[0]\n",
        "datay_A = data[1]\n",
        "datay_B = data[2]\n",
        "datay_C = data[3]\n",
        "bar.add(\"第一名\", datax, datay_A, is_stack=True)\n",
        "bar.add(\"第二名\", datax, datay_B, is_stack=True)\n",
        "bar.add(\"第三名\", datax, datay_C, is_stack=True)\n",
        "page.add(bar)\n",
        "page.render('./drive/MyDrive/pictures/test2.html')"
      ],
      "metadata": {
        "id": "_Ib4Uh7uGaHU"
      },
      "execution_count": 24,
      "outputs": []
    },
    {
      "cell_type": "code",
      "source": [],
      "metadata": {
        "id": "mu8KpCCDG5Ws"
      },
      "execution_count": null,
      "outputs": []
    }
  ],
  "metadata": {
    "colab": {
      "collapsed_sections": [],
      "name": "欢迎使用 Colaboratory",
      "provenance": []
    },
    "kernelspec": {
      "display_name": "Python 3",
      "name": "python3"
    }
  },
  "nbformat": 4,
  "nbformat_minor": 0
}